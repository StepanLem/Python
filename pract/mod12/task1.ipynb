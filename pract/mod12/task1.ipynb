{
  "cells": [
    {
      "cell_type": "code",
      "execution_count": null,
      "metadata": {
        "id": "Dv0_cwol75Fz"
      },
      "outputs": [],
      "source": [
        "#task1\n",
        "\n",
        "import sqlite3\n",
        "import pandas as pd"
      ]
    },
    {
      "cell_type": "code",
      "execution_count": null,
      "metadata": {
        "id": "OgV7nZ_G9lDa"
      },
      "outputs": [],
      "source": [
        "conn_old = sqlite3.connect('netflix.sqlite')\n",
        "cursor_old = conn_old.cursor()"
      ]
    },
    {
      "cell_type": "code",
      "execution_count": null,
      "metadata": {
        "id": "-quWJO889mnT"
      },
      "outputs": [],
      "source": [
        "netflix_data = pd.read_sql_query('SELECT * FROM netflix_titles', conn_old)"
      ]
    },
    {
      "cell_type": "code",
      "execution_count": null,
      "metadata": {
        "id": "AFsKL7hg9piV"
      },
      "outputs": [],
      "source": [
        "conn_new = sqlite3.connect('task1.sqlite')\n",
        "cursor_new = conn_new.cursor()"
      ]
    },
    {
      "cell_type": "code",
      "execution_count": null,
      "metadata": {
        "colab": {
          "base_uri": "https://localhost:8080/"
        },
        "id": "ny5WaUqG9rit",
        "outputId": "60fc2bc3-b336-4bca-b7fb-24a593788613"
      },
      "outputs": [],
      "source": [
        "cursor_new.execute('''\n",
        "    CREATE TABLE IF NOT EXISTS actors (\n",
        "        actor_id INTEGER PRIMARY KEY AUTOINCREMENT,\n",
        "        actor_name TEXT NOT NULL\n",
        "    )\n",
        "''')"
      ]
    },
    {
      "cell_type": "code",
      "execution_count": null,
      "metadata": {
        "colab": {
          "base_uri": "https://localhost:8080/"
        },
        "id": "Fx9Emc269u66",
        "outputId": "317e7809-98fe-4fce-ccc9-fc6894492459"
      },
      "outputs": [],
      "source": [
        "cursor_new.execute('''\n",
        "    CREATE TABLE IF NOT EXISTS movies (\n",
        "        movie_id INTEGER PRIMARY KEY AUTOINCREMENT,\n",
        "        show_id TEXT NOT NULL,\n",
        "        type TEXT,\n",
        "        title TEXT,\n",
        "        director TEXT,\n",
        "        country TEXT,\n",
        "        date_added TEXT,\n",
        "        release_year INTEGER,\n",
        "        rating TEXT,\n",
        "        duration TEXT,\n",
        "        listed_in TEXT,\n",
        "        description TEXT\n",
        "    )\n",
        "''')"
      ]
    },
    {
      "cell_type": "code",
      "execution_count": null,
      "metadata": {
        "colab": {
          "base_uri": "https://localhost:8080/"
        },
        "id": "_YEuCQV990Oe",
        "outputId": "acd0b3b0-d4eb-41cf-c4bb-8cd53c9fa532"
      },
      "outputs": [],
      "source": [
        "cursor_new.execute('''\n",
        "    CREATE TABLE IF NOT EXISTS actor_movie (\n",
        "        actor_name TEXT,\n",
        "        title TEXT,\n",
        "        PRIMARY KEY (actor_name, title),\n",
        "        FOREIGN KEY (actor_name) REFERENCES actors (actor_name),\n",
        "        FOREIGN KEY (title) REFERENCES movies (title)\n",
        "    )\n",
        "''')"
      ]
    },
    {
      "cell_type": "code",
      "execution_count": null,
      "metadata": {
        "colab": {
          "base_uri": "https://localhost:8080/"
        },
        "id": "9NXhWydQ93cw",
        "outputId": "358ef6ab-e4a9-45b2-b607-37c69cb1f476"
      },
      "outputs": [],
      "source": [
        "actors_data = pd.DataFrame({'actor_name': netflix_data['cast'].str.split(', ').explode().unique()})\n",
        "actors_data.to_sql('actors', conn_new, if_exists='replace', index_label='actor_id')"
      ]
    },
    {
      "cell_type": "code",
      "execution_count": null,
      "metadata": {
        "colab": {
          "base_uri": "https://localhost:8080/"
        },
        "id": "FG_s_gQY95Oz",
        "outputId": "cc86250d-2ab3-42d9-90b8-1fb6fd92942b"
      },
      "outputs": [],
      "source": [
        "movies_data = netflix_data[['show_id', 'type', 'title', 'director', 'country', 'date_added',\n",
        "                            'release_year', 'rating', 'duration', 'listed_in', 'description']].copy()\n",
        "movies_data.to_sql('movies', conn_new, if_exists='replace', index=False)"
      ]
    },
    {
      "cell_type": "code",
      "execution_count": null,
      "metadata": {
        "colab": {
          "base_uri": "https://localhost:8080/"
        },
        "id": "p8HUaZq597v2",
        "outputId": "45c57c3b-609f-471f-fc70-4cdb58bbf326"
      },
      "outputs": [],
      "source": [
        "actor_movie_data = pd.DataFrame(columns=['actor_name', 'title'])\n",
        "for _, row in netflix_data.iterrows():\n",
        "    actor_names = row['cast'].split(', ')\n",
        "    title = row['title']\n",
        "    actor_movie_data = pd.concat([actor_movie_data, pd.DataFrame({'actor_name': actor_names, 'title': [title] * len(actor_names)})], ignore_index=True)\n",
        "\n",
        "actor_movie_data.to_sql('actor_movie', conn_new, if_exists='replace', index=False)"
      ]
    },
    {
      "cell_type": "code",
      "execution_count": null,
      "metadata": {
        "id": "Wvx0GXsb-AQb"
      },
      "outputs": [],
      "source": [
        "conn_old.close()\n",
        "conn_new.commit()\n",
        "conn_new.close()"
      ]
    },
    {
      "cell_type": "code",
      "execution_count": null,
      "metadata": {
        "id": "gG5plC13CDZw"
      },
      "outputs": [],
      "source": [
        "#task2\n",
        "\n",
        "import sqlite3\n",
        "conn = sqlite3.connect('task1.sqlite')\n",
        "cursor = conn.cursor()"
      ]
    },
    {
      "cell_type": "code",
      "execution_count": null,
      "metadata": {
        "id": "bDR92KlXCbxe"
      },
      "outputs": [],
      "source": [
        "query = '''\n",
        "    SELECT a1.actor_name AS Actor1, a2.actor_name AS Actor2, COUNT(*) AS MoviesTogether\n",
        "    FROM actor_movie a1\n",
        "    JOIN actor_movie a2 ON a1.title = a2.title AND a1.actor_name < a2.actor_name\n",
        "    GROUP BY a1.actor_name, a2.actor_name\n",
        "    ORDER BY MoviesTogether DESC\n",
        "    LIMIT 1;\n",
        "'''"
      ]
    },
    {
      "cell_type": "code",
      "execution_count": null,
      "metadata": {
        "colab": {
          "base_uri": "https://localhost:8080/"
        },
        "id": "jqaKw_iRCcj8",
        "outputId": "4b2e6285-c9de-4176-88ed-9dbf0d71b4cb"
      },
      "outputs": [],
      "source": [
        "cursor.execute(query)"
      ]
    },
    {
      "cell_type": "code",
      "execution_count": null,
      "metadata": {
        "id": "_yvcVbnyCfag"
      },
      "outputs": [],
      "source": [
        "result = cursor.fetchone()"
      ]
    },
    {
      "cell_type": "code",
      "execution_count": null,
      "metadata": {
        "colab": {
          "base_uri": "https://localhost:8080/"
        },
        "id": "glJoqnShCil5",
        "outputId": "c222e77e-84f7-4bba-ec2d-56891dc8441d"
      },
      "outputs": [],
      "source": [
        "print(f\"Наиболее часто работающая друг с другом пара актеров: {result[0]} и {result[1]}\")"
      ]
    },
    {
      "cell_type": "code",
      "execution_count": null,
      "metadata": {
        "id": "IPPbEyg3CkvK"
      },
      "outputs": [],
      "source": [
        "conn.close()"
      ]
    }
  ],
  "metadata": {
    "colab": {
      "provenance": []
    },
    "kernelspec": {
      "display_name": "Python 3",
      "name": "python3"
    },
    "language_info": {
      "codemirror_mode": {
        "name": "ipython",
        "version": 3
      },
      "file_extension": ".py",
      "mimetype": "text/x-python",
      "name": "python",
      "nbconvert_exporter": "python",
      "pygments_lexer": "ipython3",
      "version": "3.11.5"
    }
  },
  "nbformat": 4,
  "nbformat_minor": 0
}
